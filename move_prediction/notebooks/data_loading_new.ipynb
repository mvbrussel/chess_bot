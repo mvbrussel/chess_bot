{
 "cells": [
  {
   "cell_type": "code",
   "execution_count": 23,
   "metadata": {},
   "outputs": [],
   "source": [
    "#Import packages\n",
    "import sqlite3\n",
    "import pandas as pd\n",
    "import gym\n",
    "import gym_chess\n",
    "import chess\n",
    "from gym_chess.alphazero import BoardEncoding\n",
    "import numpy as np\n",
    "import matplotlib.pyplot as plt\n",
    "\n"
   ]
  },
  {
   "cell_type": "code",
   "execution_count": 24,
   "metadata": {},
   "outputs": [],
   "source": [
    "#Importing created modules\n",
    "import os\n",
    "import sys \n",
    "\n",
    "cwd = os.getcwd()\n",
    "parent_directory = os.path.abspath(os.path.join(cwd, '..', '..'))\n",
    "sys.path.append(parent_directory)\n",
    "\n",
    "from utils.move_encoding import encode_move, decode_move, find_move\n",
    "from utils.board_encoding import encode_board, fen_to_board\n"
   ]
  },
  {
   "cell_type": "code",
   "execution_count": 25,
   "metadata": {},
   "outputs": [],
   "source": [
    "def find_move(fen1, fen2):\n",
    "    # Create board objects from FEN positions\n",
    "    # fen1 = x['fen']\n",
    "    # fen2 = x['next_fen']\n",
    "    \n",
    "    board1 = chess.Board(fen1)\n",
    "    board2 = chess.Board(fen2)\n",
    "\n",
    "    # Find the move made between the two positions\n",
    "    move = np.nan\n",
    "    for possible_move in board1.legal_moves:\n",
    "        # Make the move on a copy of the first board\n",
    "        temp_board = board1.copy()\n",
    "        temp_board.push(possible_move)\n",
    "        \n",
    "        # Compare the resulting FEN position with the second position\n",
    "        if temp_board==board2:\n",
    "            move = possible_move\n",
    "            break\n",
    "\n",
    "    return move\n"
   ]
  },
  {
   "cell_type": "code",
   "execution_count": 26,
   "metadata": {},
   "outputs": [],
   "source": [
    "database = sqlite3.connect('../../data/test_data.db')\n",
    "df = pd.read_sql_query(\"SELECT * FROM evaluations LIMIT 1000000\", database)\n"
   ]
  },
  {
   "cell_type": "code",
   "execution_count": 27,
   "metadata": {},
   "outputs": [
    {
     "name": "stdout",
     "output_type": "stream",
     "text": [
      "(8, 8, 14)\n",
      "Index(['id', 'fen', 'binary', 'eval', 'board', 'encoded_board'], dtype='object')\n"
     ]
    }
   ],
   "source": [
    "df['board'] = df['fen'].apply(fen_to_board)\n",
    "df['encoded_board'] = df['board'].apply(encode_board)\n",
    "print(df['encoded_board'][0].shape)\n",
    "print(df.columns)"
   ]
  },
  {
   "cell_type": "code",
   "execution_count": 28,
   "metadata": {},
   "outputs": [],
   "source": [
    "df['move'] = None\n",
    "df['encoded_move'] = None\n",
    "\n",
    "for i in range(len(df)-1):\n",
    "    df.loc[i, 'move'] = find_move(df['fen'][i], df['fen'][i+1])\n",
    "    try:\n",
    "        df.loc[i, 'encoded_move'] = encode_move(df['move'][i])\n",
    "    except:\n",
    "        df.loc[i, 'encoded_move'] = None\n"
   ]
  },
  {
   "cell_type": "code",
   "execution_count": null,
   "metadata": {},
   "outputs": [],
   "source": [
    "df.dropna(subset=['encoded_move'],inplace=True)\n",
    "df.reset_index(inplace=True, drop=True)"
   ]
  },
  {
   "cell_type": "code",
   "execution_count": null,
   "metadata": {},
   "outputs": [],
   "source": [
    "df.to_pickle('../../data/cleaned_data/cleaned_data_basic_encoding_1M.pkl')\n"
   ]
  },
  {
   "cell_type": "code",
   "execution_count": 19,
   "metadata": {},
   "outputs": [
    {
     "data": {
      "text/html": [
       "<div>\n",
       "<style scoped>\n",
       "    .dataframe tbody tr th:only-of-type {\n",
       "        vertical-align: middle;\n",
       "    }\n",
       "\n",
       "    .dataframe tbody tr th {\n",
       "        vertical-align: top;\n",
       "    }\n",
       "\n",
       "    .dataframe thead th {\n",
       "        text-align: right;\n",
       "    }\n",
       "</style>\n",
       "<table border=\"1\" class=\"dataframe\">\n",
       "  <thead>\n",
       "    <tr style=\"text-align: right;\">\n",
       "      <th></th>\n",
       "      <th>move</th>\n",
       "      <th>encoded_move</th>\n",
       "      <th>decoded_move</th>\n",
       "    </tr>\n",
       "  </thead>\n",
       "  <tbody>\n",
       "    <tr>\n",
       "      <th>0</th>\n",
       "      <td>d7d5</td>\n",
       "      <td>3299</td>\n",
       "      <td>d7d5</td>\n",
       "    </tr>\n",
       "    <tr>\n",
       "      <th>1</th>\n",
       "      <td>c2c4</td>\n",
       "      <td>666</td>\n",
       "      <td>c2c4</td>\n",
       "    </tr>\n",
       "    <tr>\n",
       "      <th>2</th>\n",
       "      <td>e7e6</td>\n",
       "      <td>3372</td>\n",
       "      <td>e7e6</td>\n",
       "    </tr>\n",
       "    <tr>\n",
       "      <th>3</th>\n",
       "      <td>c4d5</td>\n",
       "      <td>1699</td>\n",
       "      <td>c4d5</td>\n",
       "    </tr>\n",
       "    <tr>\n",
       "      <th>4</th>\n",
       "      <td>e6d5</td>\n",
       "      <td>2851</td>\n",
       "      <td>e6d5</td>\n",
       "    </tr>\n",
       "    <tr>\n",
       "      <th>...</th>\n",
       "      <td>...</td>\n",
       "      <td>...</td>\n",
       "      <td>...</td>\n",
       "    </tr>\n",
       "    <tr>\n",
       "      <th>94908</th>\n",
       "      <td>g8h7</td>\n",
       "      <td>4023</td>\n",
       "      <td>g8h7</td>\n",
       "    </tr>\n",
       "    <tr>\n",
       "      <th>94909</th>\n",
       "      <td>c8f5</td>\n",
       "      <td>3749</td>\n",
       "      <td>c8f5</td>\n",
       "    </tr>\n",
       "    <tr>\n",
       "      <th>94910</th>\n",
       "      <td>g7g6</td>\n",
       "      <td>3502</td>\n",
       "      <td>g7g6</td>\n",
       "    </tr>\n",
       "    <tr>\n",
       "      <th>94911</th>\n",
       "      <td>f5f7</td>\n",
       "      <td>2421</td>\n",
       "      <td>f5f7</td>\n",
       "    </tr>\n",
       "    <tr>\n",
       "      <th>94912</th>\n",
       "      <td>h7h8</td>\n",
       "      <td>3583</td>\n",
       "      <td>h7h8</td>\n",
       "    </tr>\n",
       "  </tbody>\n",
       "</table>\n",
       "<p>94913 rows × 3 columns</p>\n",
       "</div>"
      ],
      "text/plain": [
       "       move encoded_move decoded_move\n",
       "0      d7d5         3299         d7d5\n",
       "1      c2c4          666         c2c4\n",
       "2      e7e6         3372         e7e6\n",
       "3      c4d5         1699         c4d5\n",
       "4      e6d5         2851         e6d5\n",
       "...     ...          ...          ...\n",
       "94908  g8h7         4023         g8h7\n",
       "94909  c8f5         3749         c8f5\n",
       "94910  g7g6         3502         g7g6\n",
       "94911  f5f7         2421         f5f7\n",
       "94912  h7h8         3583         h7h8\n",
       "\n",
       "[94913 rows x 3 columns]"
      ]
     },
     "execution_count": 19,
     "metadata": {},
     "output_type": "execute_result"
    }
   ],
   "source": [
    "#Test cell to see if encoding - decoding provides the same result\n",
    "df['decoded_move'] = \"\"\n",
    "\n",
    "for i in range(len(df)):\n",
    "    df.loc[i, 'decoded_move'] = decode_move(df['encoded_move'][i])\n",
    "    \n",
    "df[['move', 'encoded_move', 'decoded_move']]"
   ]
  }
 ],
 "metadata": {
  "kernelspec": {
   "display_name": "chess_bot",
   "language": "python",
   "name": "python3"
  },
  "language_info": {
   "codemirror_mode": {
    "name": "ipython",
    "version": 3
   },
   "file_extension": ".py",
   "mimetype": "text/x-python",
   "name": "python",
   "nbconvert_exporter": "python",
   "pygments_lexer": "ipython3",
   "version": "3.7.16"
  }
 },
 "nbformat": 4,
 "nbformat_minor": 2
}
