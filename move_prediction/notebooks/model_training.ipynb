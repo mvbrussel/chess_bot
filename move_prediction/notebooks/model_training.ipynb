{
 "cells": [
  {
   "cell_type": "code",
   "execution_count": 31,
   "metadata": {},
   "outputs": [],
   "source": [
    "#Loading packages\n",
    "import pandas as pd\n",
    "import numpy as np\n",
    "from sklearn.model_selection import train_test_split\n",
    "import tensorflow as tf\n",
    "import keras\n",
    "import chess\n",
    "\n",
    "from keras.models import load_model\n"
   ]
  },
  {
   "cell_type": "code",
   "execution_count": 2,
   "metadata": {},
   "outputs": [],
   "source": [
    "df_full = pd.read_pickle('cleaned_data.pkl')\n",
    "df = df_full[['board', 'encoded_board', 'move', 'encoded_move']]"
   ]
  },
  {
   "cell_type": "code",
   "execution_count": 3,
   "metadata": {},
   "outputs": [
    {
     "name": "stdout",
     "output_type": "stream",
     "text": [
      "Encoded board has a minimum of 0 and a maximum of 1\n",
      "There are 4660 different encoded moves\n"
     ]
    }
   ],
   "source": [
    "df_shape = df['encoded_board'][0].shape\n",
    "#Additional data cleaning\n",
    "df = df[df['encoded_move']!=\"\"]\n",
    "\n",
    "\n",
    "x_max = np.max(df['encoded_board'].apply(lambda x: np.max(x)))\n",
    "x_min = np.min(df['encoded_board'].apply(lambda x: np.min(x)))\n",
    "y_max = np.max(df['encoded_move'])\n",
    "\n",
    "print(\"Encoded board has a minimum of \" + str(x_min) + \" and a maximum of \" + str(x_max))\n",
    "print(\"There are \" + str(y_max) + \" different encoded moves\")\n",
    "\n"
   ]
  },
  {
   "cell_type": "code",
   "execution_count": 4,
   "metadata": {},
   "outputs": [],
   "source": [
    "x = df['encoded_board']\n",
    "y = df['encoded_move']\n",
    "x_train, x_val, y_train, y_val = train_test_split(x, y, test_size=0.3, random_state=42)\n",
    "\n",
    "x_train = x_train.to_numpy()\n",
    "x_val = x_val.to_numpy()\n",
    "y_train = y_train.to_numpy()\n",
    "y_val = y_val.to_numpy()\n"
   ]
  },
  {
   "cell_type": "code",
   "execution_count": 5,
   "metadata": {},
   "outputs": [],
   "source": [
    "# x_train.reshape(6672,8,8,14)\n",
    "\n",
    "for i in range(len(x_train)):\n",
    "    x_train[i] = x_train[0].reshape(896)\n",
    "    \n",
    "x_train = np.array(x_train.tolist()).astype('float32')\n",
    "\n",
    "for i in range(len(x_val)):\n",
    "    x_val[i] = x_val[0].reshape(896)\n",
    "    \n",
    "x_val = np.array(x_val.tolist()).astype('float32')\n",
    "\n",
    "y_train = y_train.astype('float32')\n",
    "y_val = y_val.astype('float32')"
   ]
  },
  {
   "cell_type": "code",
   "execution_count": 6,
   "metadata": {},
   "outputs": [
    {
     "name": "stdout",
     "output_type": "stream",
     "text": [
      "0\n",
      "4660\n"
     ]
    },
    {
     "data": {
      "text/plain": [
       "(66437,)"
      ]
     },
     "execution_count": 6,
     "metadata": {},
     "output_type": "execute_result"
    }
   ],
   "source": [
    "\n",
    "len(np.unique(y))\n",
    "print(np.min(y))\n",
    "print(np.max(y))\n",
    "\n",
    "x_val[0].shape\n",
    "y_train.shape"
   ]
  },
  {
   "cell_type": "code",
   "execution_count": 7,
   "metadata": {},
   "outputs": [
    {
     "name": "stdout",
     "output_type": "stream",
     "text": [
      "Epoch 1/4\n",
      "2077/2077 [==============================] - 12s 5ms/step - loss: 6.8761 - accuracy: 0.0073\n",
      "Epoch 2/4\n",
      "2077/2077 [==============================] - 11s 5ms/step - loss: 6.7484 - accuracy: 0.0083\n",
      "Epoch 3/4\n",
      "2077/2077 [==============================] - 11s 5ms/step - loss: 6.7439 - accuracy: 0.0080\n",
      "Epoch 4/4\n",
      "2077/2077 [==============================] - 11s 5ms/step - loss: 6.7421 - accuracy: 0.0080\n"
     ]
    },
    {
     "data": {
      "text/plain": [
       "<keras.callbacks.History at 0x2469c531a48>"
      ]
     },
     "execution_count": 7,
     "metadata": {},
     "output_type": "execute_result"
    }
   ],
   "source": [
    "input_shape = x_train[0].shape[0]\n",
    "y_max = 4672 #Number of possible moves\n",
    "\n",
    "\n",
    "model = keras.Sequential([\n",
    "    keras.layers.Flatten(input_shape=(896,)),\n",
    "    keras.layers.Dense(units=20, activation='relu'),\n",
    "    keras.layers.Dense(units=y_max, activation='softmax')\n",
    "])\n",
    "\n",
    "model.compile(\n",
    "    optimizer='Adam',\n",
    "    loss='SparseCategoricalCrossentropy',\n",
    "    metrics=['accuracy']\n",
    ")\n",
    "\n",
    "model.fit(\n",
    "    x=x_train,\n",
    "    y=y_train,\n",
    "    epochs=4\n",
    ")"
   ]
  },
  {
   "cell_type": "code",
   "execution_count": 32,
   "metadata": {},
   "outputs": [],
   "source": [
    "model.save('saved_models/testing_model.h5')"
   ]
  },
  {
   "cell_type": "code",
   "execution_count": 30,
   "metadata": {},
   "outputs": [
    {
     "data": {
      "text/plain": [
       "0.0016174312"
      ]
     },
     "execution_count": 30,
     "metadata": {},
     "output_type": "execute_result"
    }
   ],
   "source": [
    "#Reshape to be able to input to model\n",
    "prediction_input = x_val[0].reshape(1, 896)\n",
    "prediction = model(prediction_input)\n",
    "prediction = prediction.numpy()\n",
    "prediction = prediction.reshape(4672,)\n",
    "\n",
    "\n"
   ]
  },
  {
   "cell_type": "code",
   "execution_count": null,
   "metadata": {},
   "outputs": [],
   "source": []
  }
 ],
 "metadata": {
  "kernelspec": {
   "display_name": "chess_bot",
   "language": "python",
   "name": "python3"
  },
  "language_info": {
   "codemirror_mode": {
    "name": "ipython",
    "version": 3
   },
   "file_extension": ".py",
   "mimetype": "text/x-python",
   "name": "python",
   "nbconvert_exporter": "python",
   "pygments_lexer": "ipython3",
   "version": "3.7.16"
  }
 },
 "nbformat": 4,
 "nbformat_minor": 2
}
