{
 "cells": [
  {
   "cell_type": "code",
   "execution_count": 1,
   "metadata": {},
   "outputs": [],
   "source": [
    "#Loading packages\n",
    "import pandas as pd\n",
    "import numpy as np\n",
    "from sklearn.model_selection import train_test_split\n",
    "import tensorflow\n",
    "import keras\n",
    "from keras.models import load_model\n",
    "import os\n",
    "import sys \n",
    "\n",
    "#Importign local modules\n",
    "cwd = os.getcwd()\n",
    "parent_directory = os.path.abspath(os.path.join(cwd, '..', '..'))\n",
    "sys.path.append(parent_directory)\n",
    "\n",
    "from utils.move_encoding import encode_move, decode_move\n",
    "from utils.board_encoding import encode_board, fen_to_board\n"
   ]
  },
  {
   "cell_type": "code",
   "execution_count": 2,
   "metadata": {},
   "outputs": [],
   "source": [
    "#OLD Loading the data\n",
    "data_file = \"cleaned_data_1M.pkl\"\n",
    "data_path = os.path.join('..', '..', 'data/cleaned_data', data_file)\n",
    "df_full = pd.read_pickle(data_path)\n",
    "df = df_full[['board', 'encoded_board', 'move', 'encoded_move']]\n"
   ]
  },
  {
   "cell_type": "code",
   "execution_count": 2,
   "metadata": {},
   "outputs": [],
   "source": [
    "#Loading the data\n",
    "folder_name = \"10M\"\n",
    "folder_path = f\"../../data/cleaned_data/{folder_name}\" \n",
    "\n",
    "def list_files_in_folder(folder_path):\n",
    "    \n",
    "    # Get a list of all files in the folder\n",
    "    files = os.listdir(folder_path)    \n",
    "    files_with_path = [os.path.join(folder_path, file) for file in files]\n",
    "    \n",
    "    return files_with_path\n",
    "\n",
    "\n",
    "output_files = list_files_in_folder(folder_path)\n",
    "df = pd.concat([pd.read_pickle(file) for file in output_files], ignore_index=True)\n",
    "\n"
   ]
  },
  {
   "cell_type": "code",
   "execution_count": 3,
   "metadata": {},
   "outputs": [
    {
     "name": "stdout",
     "output_type": "stream",
     "text": [
      "There are 947959 observations\n"
     ]
    }
   ],
   "source": [
    "#Obtaining basic descriptives\n",
    "obs_count = df.shape[0]\n",
    "encoded_board_shape = df['encoded_board'][0].shape\n",
    "\n",
    "encoded_board_max = np.max(df['encoded_board'].apply(lambda x: np.max(x)))\n",
    "encoded_board_min = np.min(df['encoded_board'].apply(lambda x: np.min(x)))\n",
    "\n",
    "if encoded_board_min != 0 or encoded_board_max != 1:\n",
    "    print('Check the encoded board values')\n",
    "else:\n",
    "    pass\n",
    "    \n",
    "print(f'There are {obs_count} observations')"
   ]
  },
  {
   "cell_type": "code",
   "execution_count": 4,
   "metadata": {},
   "outputs": [],
   "source": [
    "#Converting data to input for the model\n",
    "x = df['encoded_board']\n",
    "y = df['encoded_move']\n",
    "x_train, x_val, y_train, y_val = train_test_split(x, y, test_size=0.3, random_state=42)\n",
    "\n",
    "x_train = x_train.to_numpy()\n",
    "x_val = x_val.to_numpy()\n",
    "y_train = y_train.to_numpy()\n",
    "y_val = y_val.to_numpy()\n",
    "\n",
    "for i in range(len(x_train)):\n",
    "    x_train[i] = x_train[0].reshape(896)\n",
    "    \n",
    "x_train = np.array(x_train.tolist()).astype('float32')\n",
    "\n",
    "for i in range(len(x_val)):\n",
    "    x_val[i] = x_val[0].reshape(896)\n",
    "    \n",
    "x_val = np.array(x_val.tolist()).astype('float32')\n",
    "\n",
    "y_train = y_train.astype('float32')\n",
    "y_val = y_val.astype('float32')\n"
   ]
  },
  {
   "cell_type": "code",
   "execution_count": 5,
   "metadata": {},
   "outputs": [
    {
     "name": "stdout",
     "output_type": "stream",
     "text": [
      "Epoch 1/40\n",
      "20737/20737 [==============================] - 2451s 118ms/step - loss: 6.4702 - accuracy: 0.0122\n",
      "Epoch 2/40\n",
      "20737/20737 [==============================] - 2918s 141ms/step - loss: 6.4510 - accuracy: 0.0125\n",
      "Epoch 3/40\n",
      "20737/20737 [==============================] - 2330s 112ms/step - loss: 6.4489 - accuracy: 0.0125\n",
      "Epoch 4/40\n",
      "20737/20737 [==============================] - 2397s 116ms/step - loss: 6.4477 - accuracy: 0.0125\n",
      "Epoch 5/40\n",
      "20737/20737 [==============================] - 2399s 116ms/step - loss: 6.4471 - accuracy: 0.0127\n",
      "Epoch 6/40\n",
      "20737/20737 [==============================] - 2525s 122ms/step - loss: 6.4466 - accuracy: 0.0127\n",
      "Epoch 7/40\n",
      "20737/20737 [==============================] - 4159s 201ms/step - loss: 6.4461 - accuracy: 0.0127\n",
      "Epoch 8/40\n",
      "20737/20737 [==============================] - 12399s 598ms/step - loss: 6.4456 - accuracy: 0.0128\n",
      "Epoch 9/40\n",
      "20737/20737 [==============================] - 2181s 105ms/step - loss: 6.4454 - accuracy: 0.0127\n",
      "Epoch 10/40\n",
      "20737/20737 [==============================] - 2191s 106ms/step - loss: 6.4452 - accuracy: 0.0127\n",
      "Epoch 11/40\n",
      "20737/20737 [==============================] - 2190s 106ms/step - loss: 6.4450 - accuracy: 0.0127\n",
      "Epoch 12/40\n",
      "20737/20737 [==============================] - 2423s 117ms/step - loss: 6.4449 - accuracy: 0.0128\n",
      "Epoch 13/40\n",
      "20737/20737 [==============================] - 2433s 117ms/step - loss: 6.4447 - accuracy: 0.0128\n",
      "Epoch 14/40\n",
      "20737/20737 [==============================] - 2435s 117ms/step - loss: 6.4446 - accuracy: 0.0127\n",
      "Epoch 15/40\n",
      "20737/20737 [==============================] - 2441s 118ms/step - loss: 6.4445 - accuracy: 0.0128\n",
      "Epoch 16/40\n",
      "20737/20737 [==============================] - 2451s 118ms/step - loss: 6.4443 - accuracy: 0.0128\n",
      "Epoch 17/40\n",
      "20737/20737 [==============================] - 2463s 119ms/step - loss: 6.4441 - accuracy: 0.0128\n",
      "Epoch 18/40\n",
      "20737/20737 [==============================] - 3959s 191ms/step - loss: 6.4443 - accuracy: 0.0128\n",
      "Epoch 19/40\n",
      "20737/20737 [==============================] - 3459s 167ms/step - loss: 6.4446 - accuracy: 0.0128\n",
      "Epoch 20/40\n",
      "20737/20737 [==============================] - 2221s 107ms/step - loss: 6.4447 - accuracy: 0.0128\n",
      "Epoch 21/40\n",
      "20737/20737 [==============================] - 2233s 108ms/step - loss: 6.4449 - accuracy: 0.0128\n",
      "Epoch 22/40\n",
      "20737/20737 [==============================] - 2230s 108ms/step - loss: 6.4448 - accuracy: 0.0128\n",
      "Epoch 23/40\n",
      "20737/20737 [==============================] - 2234s 108ms/step - loss: 6.4449 - accuracy: 0.0128\n",
      "Epoch 24/40\n",
      "20737/20737 [==============================] - 2240s 108ms/step - loss: 6.4449 - accuracy: 0.0128\n",
      "Epoch 25/40\n",
      "20737/20737 [==============================] - 2239s 108ms/step - loss: 6.4448 - accuracy: 0.0128\n",
      "Epoch 26/40\n",
      "20737/20737 [==============================] - 2243s 108ms/step - loss: 6.4449 - accuracy: 0.0128\n",
      "Epoch 27/40\n",
      "20737/20737 [==============================] - 2240s 108ms/step - loss: 6.4449 - accuracy: 0.0128\n",
      "Epoch 28/40\n",
      "20737/20737 [==============================] - 2248s 108ms/step - loss: 6.4449 - accuracy: 0.0129\n",
      "Epoch 29/40\n",
      "20737/20737 [==============================] - 2254s 109ms/step - loss: 6.4449 - accuracy: 0.0127\n",
      "Epoch 30/40\n",
      "20737/20737 [==============================] - 2256s 109ms/step - loss: 6.4448 - accuracy: 0.0128\n",
      "Epoch 31/40\n",
      "20737/20737 [==============================] - 2264s 109ms/step - loss: 6.4448 - accuracy: 0.0128\n",
      "Epoch 32/40\n",
      "20737/20737 [==============================] - 2756s 133ms/step - loss: 6.4448 - accuracy: 0.0128\n",
      "Epoch 33/40\n",
      "20737/20737 [==============================] - 2802s 135ms/step - loss: 6.4449 - accuracy: 0.0128\n",
      "Epoch 34/40\n",
      "20737/20737 [==============================] - 2436s 117ms/step - loss: 6.4449 - accuracy: 0.0128\n",
      "Epoch 35/40\n",
      "20737/20737 [==============================] - 2432s 117ms/step - loss: 6.4448 - accuracy: 0.0128\n",
      "Epoch 36/40\n",
      "20737/20737 [==============================] - 2439s 118ms/step - loss: 6.4448 - accuracy: 0.0128\n",
      "Epoch 37/40\n",
      "20737/20737 [==============================] - 2564s 124ms/step - loss: 6.4448 - accuracy: 0.0127\n",
      "Epoch 38/40\n",
      "20737/20737 [==============================] - 2577s 124ms/step - loss: 6.4448 - accuracy: 0.0128\n",
      "Epoch 39/40\n",
      "20737/20737 [==============================] - 2586s 125ms/step - loss: 6.4448 - accuracy: 0.0128\n",
      "Epoch 40/40\n",
      "20737/20737 [==============================] - 2600s 125ms/step - loss: 6.4449 - accuracy: 0.0128\n"
     ]
    },
    {
     "data": {
      "text/plain": [
       "<keras.callbacks.History at 0x1984a180808>"
      ]
     },
     "execution_count": 5,
     "metadata": {},
     "output_type": "execute_result"
    }
   ],
   "source": [
    "input_shape = x_train[0].shape[0]\n",
    "y_max = 4672 #Number of possible moves\n",
    "\n",
    "model = keras.Sequential([\n",
    "    keras.layers.Flatten(input_shape=(896,)),\n",
    "    keras.layers.Dense(units=2000, activation='relu'),\n",
    "    keras.layers.Dense(units=1500, activation='relu'),\n",
    "    keras.layers.Dense(units=1000, activation='relu'),\n",
    "    keras.layers.Dense(units=500, activation='relu'),\n",
    "    keras.layers.Dense(units=500, activation='relu'),\n",
    "    keras.layers.Dense(units=y_max, activation='softmax')\n",
    "])\n",
    "\n",
    "model.compile(\n",
    "    optimizer='Adam',\n",
    "    loss='SparseCategoricalCrossentropy', #Because y is an integer representation\n",
    "    metrics=['accuracy']\n",
    ")\n",
    "\n",
    "model.fit(\n",
    "    x=x_train,\n",
    "    y=y_train,\n",
    "    epochs=40\n",
    ")"
   ]
  },
  {
   "cell_type": "code",
   "execution_count": 6,
   "metadata": {},
   "outputs": [],
   "source": [
    "model.save('../saved_models/initial_model.h5')"
   ]
  },
  {
   "cell_type": "code",
   "execution_count": null,
   "metadata": {},
   "outputs": [],
   "source": []
  }
 ],
 "metadata": {
  "kernelspec": {
   "display_name": "chess_bot",
   "language": "python",
   "name": "python3"
  },
  "language_info": {
   "codemirror_mode": {
    "name": "ipython",
    "version": 3
   },
   "file_extension": ".py",
   "mimetype": "text/x-python",
   "name": "python",
   "nbconvert_exporter": "python",
   "pygments_lexer": "ipython3",
   "version": "3.7.1"
  }
 },
 "nbformat": 4,
 "nbformat_minor": 2
}
