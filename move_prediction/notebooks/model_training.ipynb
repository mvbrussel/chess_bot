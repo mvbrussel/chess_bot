{
 "cells": [
  {
   "cell_type": "code",
   "execution_count": 1,
   "metadata": {},
   "outputs": [],
   "source": [
    "#Loading packages\n",
    "import pandas as pd\n",
    "import numpy as np\n",
    "from sklearn.model_selection import train_test_split\n",
    "import tensorflow as tf\n",
    "import keras\n",
    "import chess\n",
    "\n",
    "from keras.models import load_model\n"
   ]
  },
  {
   "cell_type": "code",
   "execution_count": 2,
   "metadata": {},
   "outputs": [],
   "source": [
    "#Importing created modules\n",
    "import os\n",
    "import sys \n",
    "\n",
    "cwd = os.getcwd()\n",
    "parent_directory = os.path.abspath(os.path.join(cwd, '..', '..'))\n",
    "sys.path.append(parent_directory)\n",
    "\n",
    "from utils.move_encoding import encode_move, decode_move\n",
    "from utils.board_encoding import encode_board, fen_to_board\n"
   ]
  },
  {
   "cell_type": "code",
   "execution_count": 5,
   "metadata": {},
   "outputs": [
    {
     "data": {
      "text/html": [
       "<div>\n",
       "<style scoped>\n",
       "    .dataframe tbody tr th:only-of-type {\n",
       "        vertical-align: middle;\n",
       "    }\n",
       "\n",
       "    .dataframe tbody tr th {\n",
       "        vertical-align: top;\n",
       "    }\n",
       "\n",
       "    .dataframe thead th {\n",
       "        text-align: right;\n",
       "    }\n",
       "</style>\n",
       "<table border=\"1\" class=\"dataframe\">\n",
       "  <thead>\n",
       "    <tr style=\"text-align: right;\">\n",
       "      <th></th>\n",
       "      <th>board</th>\n",
       "      <th>encoded_board</th>\n",
       "      <th>move</th>\n",
       "      <th>encoded_move</th>\n",
       "    </tr>\n",
       "  </thead>\n",
       "  <tbody>\n",
       "    <tr>\n",
       "      <th>0</th>\n",
       "      <td>r n b q k b n r\\np p p p p p p p\\n. . . . . . ...</td>\n",
       "      <td>[[[0, 0, 0, 1, 0, 0, 0, 0, 0, 0, 0, 0, 0, 0], ...</td>\n",
       "      <td>d7d5</td>\n",
       "      <td>877</td>\n",
       "    </tr>\n",
       "    <tr>\n",
       "      <th>1</th>\n",
       "      <td>r n b q k b n r\\np p p . p p p p\\n. . . . . . ...</td>\n",
       "      <td>[[[0, 0, 0, 1, 0, 0, 0, 0, 0, 0, 0, 0, 0, 0], ...</td>\n",
       "      <td>c2c4</td>\n",
       "      <td>731</td>\n",
       "    </tr>\n",
       "    <tr>\n",
       "      <th>2</th>\n",
       "      <td>r n b q k b n r\\np p p . p p p p\\n. . . . . . ...</td>\n",
       "      <td>[[[0, 0, 0, 1, 0, 0, 0, 0, 0, 0, 0, 0, 0, 0], ...</td>\n",
       "      <td>e7e6</td>\n",
       "      <td>803</td>\n",
       "    </tr>\n",
       "    <tr>\n",
       "      <th>3</th>\n",
       "      <td>r n b q k b n r\\np p p . . p p p\\n. . . . p . ...</td>\n",
       "      <td>[[[0, 0, 0, 1, 0, 0, 0, 0, 0, 0, 0, 0, 0, 0], ...</td>\n",
       "      <td>c4d5</td>\n",
       "      <td>1905</td>\n",
       "    </tr>\n",
       "    <tr>\n",
       "      <th>4</th>\n",
       "      <td>r n b q k b n r\\np p p . . p p p\\n. . . . p . ...</td>\n",
       "      <td>[[[0, 0, 0, 1, 0, 0, 0, 0, 0, 0, 0, 0, 0, 0], ...</td>\n",
       "      <td>e6d5</td>\n",
       "      <td>1394</td>\n",
       "    </tr>\n",
       "  </tbody>\n",
       "</table>\n",
       "</div>"
      ],
      "text/plain": [
       "                                               board  \\\n",
       "0  r n b q k b n r\\np p p p p p p p\\n. . . . . . ...   \n",
       "1  r n b q k b n r\\np p p . p p p p\\n. . . . . . ...   \n",
       "2  r n b q k b n r\\np p p . p p p p\\n. . . . . . ...   \n",
       "3  r n b q k b n r\\np p p . . p p p\\n. . . . p . ...   \n",
       "4  r n b q k b n r\\np p p . . p p p\\n. . . . p . ...   \n",
       "\n",
       "                                       encoded_board  move encoded_move  \n",
       "0  [[[0, 0, 0, 1, 0, 0, 0, 0, 0, 0, 0, 0, 0, 0], ...  d7d5          877  \n",
       "1  [[[0, 0, 0, 1, 0, 0, 0, 0, 0, 0, 0, 0, 0, 0], ...  c2c4          731  \n",
       "2  [[[0, 0, 0, 1, 0, 0, 0, 0, 0, 0, 0, 0, 0, 0], ...  e7e6          803  \n",
       "3  [[[0, 0, 0, 1, 0, 0, 0, 0, 0, 0, 0, 0, 0, 0], ...  c4d5         1905  \n",
       "4  [[[0, 0, 0, 1, 0, 0, 0, 0, 0, 0, 0, 0, 0, 0], ...  e6d5         1394  "
      ]
     },
     "execution_count": 5,
     "metadata": {},
     "output_type": "execute_result"
    }
   ],
   "source": [
    "data_file = \"cleaned_data_10K.pkl\"\n",
    "data_path = os.path.join('..', '..', 'data/cleaned_data', data_file)\n",
    "df_full = pd.read_pickle(data_path)\n",
    "df = df_full[['board', 'encoded_board', 'move', 'encoded_move']]"
   ]
  },
  {
   "cell_type": "code",
   "execution_count": 13,
   "metadata": {},
   "outputs": [
    {
     "name": "stdout",
     "output_type": "stream",
     "text": [
      "Encoded board has a minimum of 0 and a maximum of 1\n",
      "There are 4660 different encoded moves\n"
     ]
    },
    {
     "data": {
      "text/plain": [
       "0        877\n",
       "1        731\n",
       "2        803\n",
       "3       1905\n",
       "4       1394\n",
       "        ... \n",
       "9527    2701\n",
       "9528    3942\n",
       "9529    3285\n",
       "9530    4571\n",
       "9531    1547\n",
       "Name: encoded_move, Length: 9532, dtype: object"
      ]
     },
     "execution_count": 13,
     "metadata": {},
     "output_type": "execute_result"
    }
   ],
   "source": [
    "df_shape = df['encoded_board'][0].shape\n",
    "\n",
    "#Additional data cleaning\n",
    "df = df[df['encoded_move']!=\"\"]\n",
    "\n",
    "\n",
    "x_max = np.max(df['encoded_board'].apply(lambda x: np.max(x)))\n",
    "x_min = np.min(df['encoded_board'].apply(lambda x: np.min(x)))\n",
    "y_max = np.max(df['encoded_move'])\n",
    "\n",
    "print(\"Encoded board has a minimum of \" + str(x_min) + \" and a maximum of \" + str(x_max))\n",
    "print(\"There are \" + str(y_max) + \" different encoded moves\")\n",
    "\n",
    "df['encoded_move']\n"
   ]
  },
  {
   "cell_type": "code",
   "execution_count": 7,
   "metadata": {},
   "outputs": [],
   "source": [
    "x = df['encoded_board']\n",
    "y = df['encoded_move']\n",
    "\n",
    "x_train, x_val, y_train, y_val = train_test_split(x, y, test_size=0.3, random_state=42)\n",
    "\n",
    "x_train = x_train.to_numpy()\n",
    "x_val = x_val.to_numpy()\n",
    "y_train = y_train.to_numpy()\n",
    "y_val = y_val.to_numpy()\n"
   ]
  },
  {
   "cell_type": "code",
   "execution_count": 10,
   "metadata": {},
   "outputs": [],
   "source": [
    "# x_train.reshape(6672,8,8,14)\n",
    "\n",
    "for i in range(len(x_train)):\n",
    "    x_train[i] = x_train[0].reshape(896)\n",
    "    \n",
    "x_train = np.array(x_train.tolist()).astype('float32')\n",
    "\n",
    "for i in range(len(x_val)):\n",
    "    x_val[i] = x_val[0].reshape(896)\n",
    "    \n",
    "x_val = np.array(x_val.tolist()).astype('float32')\n",
    "\n",
    "y_train = y_train.astype('float32')\n",
    "y_val = y_val.astype('float32')"
   ]
  },
  {
   "cell_type": "code",
   "execution_count": 7,
   "metadata": {},
   "outputs": [
    {
     "name": "stdout",
     "output_type": "stream",
     "text": [
      "Epoch 1/4\n",
      "2077/2077 [==============================] - 12s 5ms/step - loss: 6.8761 - accuracy: 0.0073\n",
      "Epoch 2/4\n",
      "2077/2077 [==============================] - 11s 5ms/step - loss: 6.7484 - accuracy: 0.0083\n",
      "Epoch 3/4\n",
      "2077/2077 [==============================] - 11s 5ms/step - loss: 6.7439 - accuracy: 0.0080\n",
      "Epoch 4/4\n",
      "2077/2077 [==============================] - 11s 5ms/step - loss: 6.7421 - accuracy: 0.0080\n"
     ]
    },
    {
     "data": {
      "text/plain": [
       "<keras.callbacks.History at 0x2469c531a48>"
      ]
     },
     "execution_count": 7,
     "metadata": {},
     "output_type": "execute_result"
    }
   ],
   "source": [
    "input_shape = x_train[0].shape[0]\n",
    "y_max = 4672 #Number of possible moves\n",
    "\n",
    "\n",
    "model = keras.Sequential([\n",
    "    keras.layers.Flatten(input_shape=(896,)),\n",
    "    keras.layers.Dense(units=2000, activation='relu'),\n",
    "    keras.layers.Dense(units=1500, activation='relu'),\n",
    "    keras.layers.Dense(units=1000, activation='relu'),\n",
    "    keras.layers.Dense(units=500, activation='relu'),\n",
    "    keras.layers.Dense(units=500, activation='relu'),\n",
    "    keras.layers.Dense(units=y_max, activation='softmax')\n",
    "])\n",
    "\n",
    "model.compile(\n",
    "    optimizer='Adam',\n",
    "    loss='SparseCategoricalCrossentropy', #Because y is an integer representation\n",
    "    metrics=['accuracy']\n",
    ")\n",
    "\n",
    "model.fit(\n",
    "    x=x_train,\n",
    "    y=y_train,\n",
    "    epochs=100\n",
    ")"
   ]
  },
  {
   "cell_type": "code",
   "execution_count": 32,
   "metadata": {},
   "outputs": [],
   "source": [
    "model.save('../saved_models/initial_model.h5')"
   ]
  },
  {
   "cell_type": "code",
   "execution_count": 30,
   "metadata": {},
   "outputs": [
    {
     "data": {
      "text/plain": [
       "0.0016174312"
      ]
     },
     "execution_count": 30,
     "metadata": {},
     "output_type": "execute_result"
    }
   ],
   "source": [
    "#Reshape to be able to input to model\n",
    "prediction_input = x_val[0].reshape(1, 896)\n",
    "prediction = model(prediction_input)\n",
    "prediction = prediction.numpy()\n",
    "prediction = prediction.reshape(4672,)\n",
    "\n",
    "\n"
   ]
  },
  {
   "cell_type": "code",
   "execution_count": null,
   "metadata": {},
   "outputs": [],
   "source": []
  }
 ],
 "metadata": {
  "kernelspec": {
   "display_name": "chess_bot",
   "language": "python",
   "name": "python3"
  },
  "language_info": {
   "codemirror_mode": {
    "name": "ipython",
    "version": 3
   },
   "file_extension": ".py",
   "mimetype": "text/x-python",
   "name": "python",
   "nbconvert_exporter": "python",
   "pygments_lexer": "ipython3",
   "version": "3.7.16"
  }
 },
 "nbformat": 4,
 "nbformat_minor": 2
}
