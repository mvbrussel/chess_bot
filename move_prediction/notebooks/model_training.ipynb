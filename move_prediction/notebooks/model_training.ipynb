{
 "cells": [
  {
   "cell_type": "code",
   "execution_count": 1,
   "metadata": {},
   "outputs": [],
   "source": [
    "#Loading packages\n",
    "import pandas as pd\n",
    "import numpy as np\n",
    "from sklearn.model_selection import train_test_split\n",
    "import tensorflow\n",
    "import keras\n",
    "from keras.models import load_model\n",
    "import os\n",
    "import sys \n",
    "\n",
    "#Importign local modules\n",
    "cwd = os.getcwd()\n",
    "parent_directory = os.path.abspath(os.path.join(cwd, '..', '..'))\n",
    "sys.path.append(parent_directory)\n",
    "\n",
    "from utils.move_encoding import encode_move, decode_move\n",
    "from utils.board_encoding import encode_board, fen_to_board\n"
   ]
  },
  {
   "cell_type": "code",
   "execution_count": 2,
   "metadata": {},
   "outputs": [],
   "source": [
    "#OLD Loading the data\n",
    "data_file = \"cleaned_data_1M.pkl\"\n",
    "data_path = os.path.join('..', '..', 'data/cleaned_data', data_file)\n",
    "df_full = pd.read_pickle(data_path)\n",
    "df = df_full[['board', 'encoded_board', 'move', 'encoded_move']]\n"
   ]
  },
  {
   "cell_type": "code",
   "execution_count": 3,
   "metadata": {},
   "outputs": [],
   "source": [
    "#Loading the data\n",
    "folder_name = \"10M\"\n",
    "folder_path = f\"../../data/cleaned_data/{folder_name}\" \n",
    "\n",
    "def list_files_in_folder(folder_path):\n",
    "    \n",
    "    # Get a list of all files in the folder\n",
    "    files = os.listdir(folder_path)    \n",
    "    files_with_path = [os.path.join(folder_path, file) for file in files]\n",
    "    \n",
    "    return files_with_path\n",
    "\n",
    "\n",
    "output_files = list_files_in_folder(folder_path)\n",
    "df = pd.concat([pd.read_pickle(file) for file in output_files], ignore_index=True)\n",
    "\n"
   ]
  },
  {
   "cell_type": "code",
   "execution_count": 3,
   "metadata": {},
   "outputs": [
    {
     "name": "stdout",
     "output_type": "stream",
     "text": [
      "There are 947959 observations\n"
     ]
    }
   ],
   "source": [
    "#Obtaining basic descriptives\n",
    "obs_count = df.shape[0]\n",
    "encoded_board_shape = df['encoded_board'][0].shape\n",
    "\n",
    "encoded_board_max = np.max(df['encoded_board'].apply(lambda x: np.max(x)))\n",
    "encoded_board_min = np.min(df['encoded_board'].apply(lambda x: np.min(x)))\n",
    "\n",
    "if encoded_board_min != 0 or encoded_board_max != 1:\n",
    "    print('Check the encoded board values')\n",
    "else:\n",
    "    pass\n",
    "    \n",
    "print(f'There are {obs_count} observations')"
   ]
  },
  {
   "cell_type": "code",
   "execution_count": 4,
   "metadata": {},
   "outputs": [],
   "source": [
    "#Converting data to input for the model\n",
    "x = df['encoded_board']\n",
    "y = df['encoded_move']\n",
    "x_train, x_val, y_train, y_val = train_test_split(x, y, test_size=0.3, random_state=42)\n",
    "\n",
    "x_train = x_train.to_numpy()\n",
    "x_val = x_val.to_numpy()\n",
    "y_train = y_train.to_numpy()\n",
    "y_val = y_val.to_numpy()\n",
    "\n",
    "for i in range(len(x_train)):\n",
    "    x_train[i] = x_train[i].reshape(896)\n",
    "    \n",
    "x_train = np.array(x_train.tolist()).astype('float32')\n",
    "\n",
    "for i in range(len(x_val)):\n",
    "    x_val[i] = x_val[i].reshape(896)\n",
    "    \n",
    "x_val = np.array(x_val.tolist()).astype('float32')\n",
    "\n",
    "y_train = y_train.astype('float32')\n",
    "y_val = y_val.astype('float32')\n"
   ]
  },
  {
   "cell_type": "code",
   "execution_count": 5,
   "metadata": {},
   "outputs": [
    {
     "name": "stdout",
     "output_type": "stream",
     "text": [
      "Epoch 1/20\n",
      "20737/20737 [==============================] - 1672s 81ms/step - loss: 5.9437 - accuracy: 0.0347\n",
      "Epoch 2/20\n",
      "20737/20737 [==============================] - 1714s 83ms/step - loss: 5.4849 - accuracy: 0.0640\n",
      "Epoch 3/20\n",
      "20737/20737 [==============================] - 1723s 83ms/step - loss: 5.2820 - accuracy: 0.0760\n",
      "Epoch 4/20\n",
      "20737/20737 [==============================] - 1722s 83ms/step - loss: 5.1569 - accuracy: 0.0841\n",
      "Epoch 5/20\n",
      "20737/20737 [==============================] - 1664s 80ms/step - loss: 5.0653 - accuracy: 0.0898\n",
      "Epoch 6/20\n",
      "20737/20737 [==============================] - 1744s 84ms/step - loss: 4.9892 - accuracy: 0.0950\n",
      "Epoch 7/20\n",
      "20737/20737 [==============================] - 1751s 84ms/step - loss: 4.9205 - accuracy: 0.0995\n",
      "Epoch 8/20\n",
      "20737/20737 [==============================] - 1745s 84ms/step - loss: 4.8650 - accuracy: 0.1035\n",
      "Epoch 9/20\n",
      "20737/20737 [==============================] - 1749s 84ms/step - loss: 4.8123 - accuracy: 0.1068\n",
      "Epoch 10/20\n",
      "20737/20737 [==============================] - 1751s 84ms/step - loss: 4.7667 - accuracy: 0.1105\n",
      "Epoch 11/20\n",
      "20737/20737 [==============================] - 1754s 85ms/step - loss: 4.7248 - accuracy: 0.1135\n",
      "Epoch 12/20\n",
      "20737/20737 [==============================] - 1759s 85ms/step - loss: 4.6871 - accuracy: 0.1160\n",
      "Epoch 13/20\n",
      "20737/20737 [==============================] - 1762s 85ms/step - loss: 4.6507 - accuracy: 0.1192\n",
      "Epoch 14/20\n",
      "20737/20737 [==============================] - 1767s 85ms/step - loss: 4.6205 - accuracy: 0.1216\n",
      "Epoch 15/20\n",
      "20737/20737 [==============================] - 1779s 86ms/step - loss: 4.5914 - accuracy: 0.1239\n",
      "Epoch 16/20\n",
      "20737/20737 [==============================] - 1784s 86ms/step - loss: 4.5664 - accuracy: 0.1259\n",
      "Epoch 17/20\n",
      "20737/20737 [==============================] - 1783s 86ms/step - loss: 4.5399 - accuracy: 0.1281\n",
      "Epoch 18/20\n",
      "20737/20737 [==============================] - 1791s 86ms/step - loss: 4.5183 - accuracy: 0.1300\n",
      "Epoch 19/20\n",
      "20737/20737 [==============================] - 1795s 87ms/step - loss: 4.4974 - accuracy: 0.1318\n",
      "Epoch 20/20\n",
      "20737/20737 [==============================] - 1799s 87ms/step - loss: 4.4776 - accuracy: 0.1331\n"
     ]
    },
    {
     "data": {
      "text/plain": [
       "<keras.callbacks.History at 0x19c0e044898>"
      ]
     },
     "execution_count": 5,
     "metadata": {},
     "output_type": "execute_result"
    }
   ],
   "source": [
    "input_shape = x_train[0].shape[0]\n",
    "y_max = 4672 #Number of possible moves\n",
    "\n",
    "model = keras.Sequential([\n",
    "    keras.layers.Flatten(input_shape=(896,)),\n",
    "    keras.layers.Dense(units=1500, activation='relu'),\n",
    "    keras.layers.Dense(units=1000, activation='relu'),\n",
    "    keras.layers.Dense(units=750, activation='relu'),\n",
    "    keras.layers.Dense(units=500, activation='relu'),\n",
    "    keras.layers.Dense(units=y_max, activation='softmax')\n",
    "])\n",
    "\n",
    "model.compile(\n",
    "    optimizer='Adam',\n",
    "    loss='SparseCategoricalCrossentropy', #Because y is an integer representation\n",
    "    metrics=['accuracy']\n",
    ")\n",
    "\n",
    "model.fit(\n",
    "    x=x_train,\n",
    "    y=y_train,\n",
    "    epochs=20\n",
    ")"
   ]
  },
  {
   "cell_type": "code",
   "execution_count": 6,
   "metadata": {},
   "outputs": [],
   "source": [
    "model.save('../saved_models/initial_model.h5')"
   ]
  },
  {
   "cell_type": "code",
   "execution_count": null,
   "metadata": {},
   "outputs": [],
   "source": []
  }
 ],
 "metadata": {
  "kernelspec": {
   "display_name": "chess_bot",
   "language": "python",
   "name": "python3"
  },
  "language_info": {
   "codemirror_mode": {
    "name": "ipython",
    "version": 3
   },
   "file_extension": ".py",
   "mimetype": "text/x-python",
   "name": "python",
   "nbconvert_exporter": "python",
   "pygments_lexer": "ipython3",
   "version": "3.7.2"
  }
 },
 "nbformat": 4,
 "nbformat_minor": 2
}
