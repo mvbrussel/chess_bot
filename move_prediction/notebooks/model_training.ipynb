{
 "cells": [
  {
   "cell_type": "markdown",
   "metadata": {},
   "source": [
    "# Training the optimal model"
   ]
  },
  {
   "cell_type": "code",
   "execution_count": 1,
   "metadata": {},
   "outputs": [],
   "source": [
    "# Loading packages\n",
    "import pandas as pd\n",
    "import numpy as np\n",
    "from sklearn.model_selection import train_test_split\n",
    "import tensorflow\n",
    "import keras\n",
    "from keras.models import load_model\n",
    "import os\n",
    "import sys"
   ]
  },
  {
   "cell_type": "code",
   "execution_count": 2,
   "metadata": {},
   "outputs": [],
   "source": [
    "# Importign local modules\n",
    "cwd = os.getcwd()\n",
    "parent_directory = os.path.abspath(os.path.join(cwd, \"..\", \"..\"))\n",
    "sys.path.append(parent_directory)\n",
    "\n",
    "from utils.move_encoding import encode_move, decode_move\n",
    "from utils.board_encoding import encode_board, fen_to_board"
   ]
  },
  {
   "cell_type": "markdown",
   "metadata": {},
   "source": [
    "### Loading the dataset\n",
    "\n",
    "There are two options:\n",
    "1. Load one dataframe containing the full dataset\n",
    "2. Create the dataframe from a folder that contains a set of partial dataframes"
   ]
  },
  {
   "cell_type": "code",
   "execution_count": 3,
   "metadata": {},
   "outputs": [],
   "source": [
    "# 1. Loading a full dataset\n",
    "\n",
    "# Defining the name and location\n",
    "data_file = \"cleaned_data_1M.pkl\"\n",
    "data_path = os.path.join('..', '..', 'data/cleaned_data', data_file)\n",
    "\n",
    "#Creating the dataframe\n",
    "df_full = pd.read_pickle(data_path)\n",
    "df = df_full[['board', 'encoded_board', 'move', 'encoded_move']]"
   ]
  },
  {
   "cell_type": "code",
   "execution_count": 3,
   "metadata": {},
   "outputs": [],
   "source": [
    "# 2. Loading multiple files\n",
    "\n",
    "# Defining the name and location\n",
    "folder_name = \"10M\"\n",
    "folder_path = f\"../../data/cleaned_data/{folder_name}\"\n",
    "\n",
    "\n",
    "# Loading the full dataframe\n",
    "def list_files_in_folder(folder_path):\n",
    "    files = os.listdir(folder_path)\n",
    "    files_with_path = [os.path.join(folder_path, file) for file in files]\n",
    "\n",
    "    return files_with_path\n",
    "\n",
    "\n",
    "output_files = list_files_in_folder(folder_path)\n",
    "df = pd.concat([pd.read_pickle(file) for file in output_files], ignore_index=True)"
   ]
  },
  {
   "cell_type": "code",
   "execution_count": 4,
   "metadata": {},
   "outputs": [
    {
     "data": {
      "text/html": [
       "<div>\n",
       "<style scoped>\n",
       "    .dataframe tbody tr th:only-of-type {\n",
       "        vertical-align: middle;\n",
       "    }\n",
       "\n",
       "    .dataframe tbody tr th {\n",
       "        vertical-align: top;\n",
       "    }\n",
       "\n",
       "    .dataframe thead th {\n",
       "        text-align: right;\n",
       "    }\n",
       "</style>\n",
       "<table border=\"1\" class=\"dataframe\">\n",
       "  <thead>\n",
       "    <tr style=\"text-align: right;\">\n",
       "      <th></th>\n",
       "      <th>board</th>\n",
       "      <th>encoded_board</th>\n",
       "      <th>move</th>\n",
       "      <th>encoded_move</th>\n",
       "    </tr>\n",
       "  </thead>\n",
       "  <tbody>\n",
       "    <tr>\n",
       "      <th>0</th>\n",
       "      <td>r n b q k b n r\\np p p p p p p p\\n. . . . . . ...</td>\n",
       "      <td>[[[0, 0, 0, 1, 0, 0, 0, 0, 0, 0, 0, 0, 0, 0], ...</td>\n",
       "      <td>d7d5</td>\n",
       "      <td>877</td>\n",
       "    </tr>\n",
       "    <tr>\n",
       "      <th>1</th>\n",
       "      <td>r n b q k b n r\\np p p . p p p p\\n. . . . . . ...</td>\n",
       "      <td>[[[0, 0, 0, 1, 0, 0, 0, 0, 0, 0, 0, 0, 0, 0], ...</td>\n",
       "      <td>c2c4</td>\n",
       "      <td>731</td>\n",
       "    </tr>\n",
       "    <tr>\n",
       "      <th>2</th>\n",
       "      <td>r n b q k b n r\\np p p . p p p p\\n. . . . . . ...</td>\n",
       "      <td>[[[0, 0, 0, 1, 0, 0, 0, 0, 0, 0, 0, 0, 0, 0], ...</td>\n",
       "      <td>e7e6</td>\n",
       "      <td>803</td>\n",
       "    </tr>\n",
       "    <tr>\n",
       "      <th>3</th>\n",
       "      <td>r n b q k b n r\\np p p . . p p p\\n. . . . p . ...</td>\n",
       "      <td>[[[0, 0, 0, 1, 0, 0, 0, 0, 0, 0, 0, 0, 0, 0], ...</td>\n",
       "      <td>c4d5</td>\n",
       "      <td>1905</td>\n",
       "    </tr>\n",
       "    <tr>\n",
       "      <th>4</th>\n",
       "      <td>r n b q k b n r\\np p p . . p p p\\n. . . . p . ...</td>\n",
       "      <td>[[[0, 0, 0, 1, 0, 0, 0, 0, 0, 0, 0, 0, 0, 0], ...</td>\n",
       "      <td>e6d5</td>\n",
       "      <td>1394</td>\n",
       "    </tr>\n",
       "    <tr>\n",
       "      <th>5</th>\n",
       "      <td>r n b q k b n r\\np p p . . p p p\\n. . . . . . ...</td>\n",
       "      <td>[[[0, 0, 0, 1, 0, 0, 0, 0, 0, 0, 0, 0, 0, 0], ...</td>\n",
       "      <td>b1c3</td>\n",
       "      <td>129</td>\n",
       "    </tr>\n",
       "    <tr>\n",
       "      <th>6</th>\n",
       "      <td>r n b q k b n r\\np p p . . p p p\\n. . . . . . ...</td>\n",
       "      <td>[[[0, 0, 0, 1, 0, 0, 0, 0, 0, 0, 0, 0, 0, 0], ...</td>\n",
       "      <td>g8f6</td>\n",
       "      <td>129</td>\n",
       "    </tr>\n",
       "    <tr>\n",
       "      <th>7</th>\n",
       "      <td>r n b q k b . r\\np p p . . p p p\\n. . . . . n ...</td>\n",
       "      <td>[[[0, 0, 0, 1, 0, 0, 0, 0, 0, 0, 0, 0, 0, 0], ...</td>\n",
       "      <td>e2e3</td>\n",
       "      <td>876</td>\n",
       "    </tr>\n",
       "    <tr>\n",
       "      <th>8</th>\n",
       "      <td>r n b q k b . r\\np p p . . p p p\\n. . . . . n ...</td>\n",
       "      <td>[[[0, 0, 0, 1, 0, 0, 0, 0, 0, 0, 0, 0, 0, 0], ...</td>\n",
       "      <td>f8d6</td>\n",
       "      <td>154</td>\n",
       "    </tr>\n",
       "    <tr>\n",
       "      <th>9</th>\n",
       "      <td>r n b q k . . r\\np p p . . p p p\\n. . . b . n ...</td>\n",
       "      <td>[[[0, 0, 0, 1, 0, 0, 0, 0, 0, 0, 0, 0, 0, 0], ...</td>\n",
       "      <td>f1d3</td>\n",
       "      <td>415</td>\n",
       "    </tr>\n",
       "  </tbody>\n",
       "</table>\n",
       "</div>"
      ],
      "text/plain": [
       "                                               board  \\\n",
       "0  r n b q k b n r\\np p p p p p p p\\n. . . . . . ...   \n",
       "1  r n b q k b n r\\np p p . p p p p\\n. . . . . . ...   \n",
       "2  r n b q k b n r\\np p p . p p p p\\n. . . . . . ...   \n",
       "3  r n b q k b n r\\np p p . . p p p\\n. . . . p . ...   \n",
       "4  r n b q k b n r\\np p p . . p p p\\n. . . . p . ...   \n",
       "5  r n b q k b n r\\np p p . . p p p\\n. . . . . . ...   \n",
       "6  r n b q k b n r\\np p p . . p p p\\n. . . . . . ...   \n",
       "7  r n b q k b . r\\np p p . . p p p\\n. . . . . n ...   \n",
       "8  r n b q k b . r\\np p p . . p p p\\n. . . . . n ...   \n",
       "9  r n b q k . . r\\np p p . . p p p\\n. . . b . n ...   \n",
       "\n",
       "                                       encoded_board  move encoded_move  \n",
       "0  [[[0, 0, 0, 1, 0, 0, 0, 0, 0, 0, 0, 0, 0, 0], ...  d7d5          877  \n",
       "1  [[[0, 0, 0, 1, 0, 0, 0, 0, 0, 0, 0, 0, 0, 0], ...  c2c4          731  \n",
       "2  [[[0, 0, 0, 1, 0, 0, 0, 0, 0, 0, 0, 0, 0, 0], ...  e7e6          803  \n",
       "3  [[[0, 0, 0, 1, 0, 0, 0, 0, 0, 0, 0, 0, 0, 0], ...  c4d5         1905  \n",
       "4  [[[0, 0, 0, 1, 0, 0, 0, 0, 0, 0, 0, 0, 0, 0], ...  e6d5         1394  \n",
       "5  [[[0, 0, 0, 1, 0, 0, 0, 0, 0, 0, 0, 0, 0, 0], ...  b1c3          129  \n",
       "6  [[[0, 0, 0, 1, 0, 0, 0, 0, 0, 0, 0, 0, 0, 0], ...  g8f6          129  \n",
       "7  [[[0, 0, 0, 1, 0, 0, 0, 0, 0, 0, 0, 0, 0, 0], ...  e2e3          876  \n",
       "8  [[[0, 0, 0, 1, 0, 0, 0, 0, 0, 0, 0, 0, 0, 0], ...  f8d6          154  \n",
       "9  [[[0, 0, 0, 1, 0, 0, 0, 0, 0, 0, 0, 0, 0, 0], ...  f1d3          415  "
      ]
     },
     "metadata": {},
     "output_type": "display_data"
    },
    {
     "name": "stdout",
     "output_type": "stream",
     "text": [
      "The total number of moves is: 947959\n",
      "The total number of unique moves is: 1818\n",
      "The total number of missing observations is: 0\n",
      "The shape of the encoded board array is: (8, 8, 14)\n"
     ]
    }
   ],
   "source": [
    "# Obtaining basic descriptives\n",
    "obs_count = df.shape[0]\n",
    "n_moves = len(df)\n",
    "n_unique_moves = len(df[\"encoded_move\"].unique())\n",
    "n_missing_obs = len(df[df.isna().any(axis=\"columns\")])\n",
    "encoded_board_shape = df[\"encoded_board\"][0].shape\n",
    "\n",
    "display(df.head(10))\n",
    "print(f\"The total number of moves is: {n_moves}\")\n",
    "print(f\"The total number of unique moves is: {n_unique_moves}\")\n",
    "print(f\"The total number of missing observations is: {n_missing_obs}\")\n",
    "print(f\"The shape of the encoded board array is: {encoded_board_shape}\")"
   ]
  },
  {
   "cell_type": "code",
   "execution_count": null,
   "metadata": {},
   "outputs": [],
   "source": [
    "# Check correctness of the board encoding\n",
    "encoded_board_max = np.max(df[\"encoded_board\"].apply(lambda x: np.max(x)))\n",
    "encoded_board_min = np.min(df[\"encoded_board\"].apply(lambda x: np.min(x)))\n",
    "\n",
    "if encoded_board_min != 0 or encoded_board_max != 1:\n",
    "    print(\"Check the encoded board values\")\n",
    "else:\n",
    "    print(\"Board is correctly encoded\")"
   ]
  },
  {
   "cell_type": "markdown",
   "metadata": {},
   "source": [
    "### Training the optimal model\n",
    "\n",
    "The current optimal consists of:\n",
    "- 1 flatten input layer\n",
    "- 4 dense hidden layers, using the ReLu activation function and the number of neurons ranging from 1500 to 500\n",
    "- 1 dense output layer, using the Softmax activation function"
   ]
  },
  {
   "cell_type": "code",
   "execution_count": null,
   "metadata": {},
   "outputs": [],
   "source": [
    "# Defining the variables needed for converting the data to model input\n",
    "test_size = 0.3\n",
    "encoded_board_length = 8 * 8 * 114\n",
    "encoded_moves_length = 4672\n",
    "\n",
    "# Converting data to input for the model\n",
    "x = df[\"encoded_board\"]\n",
    "y = df[\"encoded_move\"]\n",
    "x_train, x_val, y_train, y_val = train_test_split(\n",
    "    x, y, test_size=test_size, random_state=42\n",
    ")\n",
    "\n",
    "x_train = x_train.to_numpy()\n",
    "x_val = x_val.to_numpy()\n",
    "y_train = y_train.to_numpy()\n",
    "y_val = y_val.to_numpy()\n",
    "\n",
    "for i in range(len(x_train)):\n",
    "    x_train[i] = x_train[i].reshape(encoded_board_length)\n",
    "\n",
    "x_train = np.array(x_train.tolist()).astype(\"float32\")\n",
    "y_train = y_train.astype(\"float32\")\n",
    "\n",
    "for i in range(len(x_val)):\n",
    "    x_val[i] = x_val[i].reshape(encoded_board_length)\n",
    "\n",
    "x_val = np.array(x_val.tolist()).astype(\"float32\")\n",
    "y_val = y_val.astype(\"float32\")"
   ]
  },
  {
   "cell_type": "code",
   "execution_count": 5,
   "metadata": {},
   "outputs": [
    {
     "name": "stdout",
     "output_type": "stream",
     "text": [
      "Epoch 1/20\n",
      "20737/20737 [==============================] - 1672s 81ms/step - loss: 5.9437 - accuracy: 0.0347\n",
      "Epoch 2/20\n",
      "20737/20737 [==============================] - 1714s 83ms/step - loss: 5.4849 - accuracy: 0.0640\n",
      "Epoch 3/20\n",
      "20737/20737 [==============================] - 1723s 83ms/step - loss: 5.2820 - accuracy: 0.0760\n",
      "Epoch 4/20\n",
      "20737/20737 [==============================] - 1722s 83ms/step - loss: 5.1569 - accuracy: 0.0841\n",
      "Epoch 5/20\n",
      "20737/20737 [==============================] - 1664s 80ms/step - loss: 5.0653 - accuracy: 0.0898\n",
      "Epoch 6/20\n",
      "20737/20737 [==============================] - 1744s 84ms/step - loss: 4.9892 - accuracy: 0.0950\n",
      "Epoch 7/20\n",
      "20737/20737 [==============================] - 1751s 84ms/step - loss: 4.9205 - accuracy: 0.0995\n",
      "Epoch 8/20\n",
      "20737/20737 [==============================] - 1745s 84ms/step - loss: 4.8650 - accuracy: 0.1035\n",
      "Epoch 9/20\n",
      "20737/20737 [==============================] - 1749s 84ms/step - loss: 4.8123 - accuracy: 0.1068\n",
      "Epoch 10/20\n",
      "20737/20737 [==============================] - 1751s 84ms/step - loss: 4.7667 - accuracy: 0.1105\n",
      "Epoch 11/20\n",
      "20737/20737 [==============================] - 1754s 85ms/step - loss: 4.7248 - accuracy: 0.1135\n",
      "Epoch 12/20\n",
      "20737/20737 [==============================] - 1759s 85ms/step - loss: 4.6871 - accuracy: 0.1160\n",
      "Epoch 13/20\n",
      "20737/20737 [==============================] - 1762s 85ms/step - loss: 4.6507 - accuracy: 0.1192\n",
      "Epoch 14/20\n",
      "20737/20737 [==============================] - 1767s 85ms/step - loss: 4.6205 - accuracy: 0.1216\n",
      "Epoch 15/20\n",
      "20737/20737 [==============================] - 1779s 86ms/step - loss: 4.5914 - accuracy: 0.1239\n",
      "Epoch 16/20\n",
      "20737/20737 [==============================] - 1784s 86ms/step - loss: 4.5664 - accuracy: 0.1259\n",
      "Epoch 17/20\n",
      "20737/20737 [==============================] - 1783s 86ms/step - loss: 4.5399 - accuracy: 0.1281\n",
      "Epoch 18/20\n",
      "20737/20737 [==============================] - 1791s 86ms/step - loss: 4.5183 - accuracy: 0.1300\n",
      "Epoch 19/20\n",
      "20737/20737 [==============================] - 1795s 87ms/step - loss: 4.4974 - accuracy: 0.1318\n",
      "Epoch 20/20\n",
      "20737/20737 [==============================] - 1799s 87ms/step - loss: 4.4776 - accuracy: 0.1331\n"
     ]
    },
    {
     "data": {
      "text/plain": [
       "<keras.callbacks.History at 0x19c0e044898>"
      ]
     },
     "execution_count": 5,
     "metadata": {},
     "output_type": "execute_result"
    }
   ],
   "source": [
    "# Defining, compiling, and fitting the optimal model\n",
    "model = keras.Sequential(\n",
    "    [\n",
    "        keras.layers.Flatten(input_shape=(encoded_board_length,)),\n",
    "        keras.layers.Dense(units=1500, activation=\"relu\"),\n",
    "        keras.layers.Dense(units=1000, activation=\"relu\"),\n",
    "        keras.layers.Dense(units=750, activation=\"relu\"),\n",
    "        keras.layers.Dense(units=500, activation=\"relu\"),\n",
    "        keras.layers.Dense(units=encoded_moves_length, activation=\"softmax\"),\n",
    "    ]\n",
    ")\n",
    "\n",
    "model.compile(\n",
    "    optimizer=\"Adam\",\n",
    "    loss=\"SparseCategoricalCrossentropy\",  # Because y is an integer representation\n",
    "    metrics=[\"accuracy\"],\n",
    ")\n",
    "\n",
    "history = model.fit(x=x_train, y=y_train, epochs=20, validation_split=0.2)"
   ]
  },
  {
   "cell_type": "code",
   "execution_count": 6,
   "metadata": {},
   "outputs": [],
   "source": [
    "model.save(\"../saved_models/trained_model.h5\")"
   ]
  }
 ],
 "metadata": {
  "kernelspec": {
   "display_name": "chess_bot",
   "language": "python",
   "name": "python3"
  },
  "language_info": {
   "codemirror_mode": {
    "name": "ipython",
    "version": 3
   },
   "file_extension": ".py",
   "mimetype": "text/x-python",
   "name": "python",
   "nbconvert_exporter": "python",
   "pygments_lexer": "ipython3",
   "version": "3.7.2"
  }
 },
 "nbformat": 4,
 "nbformat_minor": 2
}
