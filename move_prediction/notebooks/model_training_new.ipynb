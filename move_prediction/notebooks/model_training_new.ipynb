{
 "cells": [
  {
   "cell_type": "markdown",
   "metadata": {},
   "source": [
    "# Training the optimal model"
   ]
  },
  {
   "cell_type": "code",
   "execution_count": 1,
   "metadata": {},
   "outputs": [],
   "source": [
    "# Loading packages\n",
    "import pandas as pd\n",
    "import numpy as np\n",
    "from sklearn.model_selection import train_test_split\n",
    "import tensorflow\n",
    "import keras\n",
    "from keras.models import load_model\n",
    "import os\n",
    "import sys"
   ]
  },
  {
   "cell_type": "code",
   "execution_count": 2,
   "metadata": {},
   "outputs": [],
   "source": [
    "# Importign local modules\n",
    "cwd = os.getcwd()\n",
    "parent_directory = os.path.abspath(os.path.join(cwd, \"..\", \"..\"))\n",
    "sys.path.append(parent_directory)\n",
    "\n",
    "from utils.move_encoding import encode_move, decode_move\n",
    "from utils.board_encoding import encode_board, fen_to_board"
   ]
  },
  {
   "cell_type": "code",
   "execution_count": 3,
   "metadata": {},
   "outputs": [],
   "source": [
    "#Improving GPU performance\n",
    "import tensorflow as tf\n",
    "from tensorflow.compat.v1 import ConfigProto\n",
    "from tensorflow.compat.v1 import InteractiveSession\n",
    "config = ConfigProto()\n",
    "config.gpu_options.allow_growth = True\n",
    "session = InteractiveSession(config=config)"
   ]
  },
  {
   "cell_type": "markdown",
   "metadata": {},
   "source": [
    "### Loading the dataset\n",
    "\n",
    "There are two options:\n",
    "1. Load one dataframe containing the full dataset\n",
    "2. Create the dataframe from a folder that contains a set of partial dataframes"
   ]
  },
  {
   "cell_type": "code",
   "execution_count": 4,
   "metadata": {},
   "outputs": [],
   "source": [
    "#Loading the files\n",
    "file_location = 'data/stockfish_generated_data/prepared_data'\n",
    "file_path = os.path.join(parent_directory, file_location)\n",
    "\n",
    "files = os.listdir(file_path)\n",
    "numOfEach = len(files) // 2 # half are moves, other half are positions\n"
   ]
  },
  {
   "cell_type": "code",
   "execution_count": 5,
   "metadata": {},
   "outputs": [],
   "source": [
    "allMoves = []\n",
    "allBoards = []\n",
    "FRACTION_OF_DATA = 1\n",
    "\n",
    "for i in range(numOfEach):\n",
    "    \n",
    "    try:\n",
    "        moves = np.load(f\"../../data/stockfish_generated_data/prepared_data/moves{i}.npy\", allow_pickle=True)\n",
    "        \n",
    "        boards = np.load(f\"../../data/stockfish_generated_data/prepared_data/positions{i}.npy\", allow_pickle=True)\n",
    "        \n",
    "        if (len(moves) != len(boards)):\n",
    "            print(\"ERROR ON i = \", i, len(moves), len(boards))\n",
    "        \n",
    "        allMoves.extend(moves)\n",
    "        allBoards.extend(boards)\n",
    "    \n",
    "    except:\n",
    "        print(\"error: could not load \", i, \", but is still going\")\n",
    "\n",
    "allMoves = np.array(allMoves)[:(int(len(allMoves) * FRACTION_OF_DATA))]\n",
    "\n",
    "allBoards = np.array(allBoards)[:(int(len(allBoards) * FRACTION_OF_DATA))]\n",
    "\n",
    "assert len(allMoves) == len(allBoards), \"MUST BE OF SAME LENGTH\""
   ]
  },
  {
   "cell_type": "code",
   "execution_count": null,
   "metadata": {},
   "outputs": [
    {
     "name": "stdout",
     "output_type": "stream",
     "text": [
      "(8, 8, 14)\n"
     ]
    }
   ],
   "source": [
    "allBoards = allBoards.astype(\"float32\")\n",
    "allMoves = allMoves.astype(\"float32\")\n",
    "\n",
    "print(allBoards[0].shape)\n",
    "print(allMoves.shape)"
   ]
  },
  {
   "cell_type": "code",
   "execution_count": null,
   "metadata": {},
   "outputs": [],
   "source": [
    "test_size=0.2\n",
    "\n",
    "x_train, x_val, y_train, y_val = train_test_split(\n",
    "    allBoards, allMoves, test_size=test_size, random_state=42\n",
    ")"
   ]
  },
  {
   "cell_type": "code",
   "execution_count": null,
   "metadata": {},
   "outputs": [
    {
     "name": "stdout",
     "output_type": "stream",
     "text": [
      "Epoch 1/2\n",
      "15617/15617 [==============================] - 88s 6ms/step - loss: 6.6910 - accuracy: 0.0102 - val_loss: 6.5985 - val_accuracy: 0.0112\n",
      "Epoch 2/2\n",
      "15617/15617 [==============================] - 87s 6ms/step - loss: 6.5882 - accuracy: 0.0117 - val_loss: 6.5757 - val_accuracy: 0.0115\n"
     ]
    }
   ],
   "source": [
    "encoded_board_length = 8 * 8 * 14\n",
    "encoded_moves_length = 4672\n",
    "\n",
    "# Defining, compiling, and fitting the optimal model\n",
    "model = keras.Sequential(\n",
    "    [\n",
    "        keras.layers.Flatten(input_shape=(8,8,14)),\n",
    "        keras.layers.Dense(units=1500, activation=\"relu\"),\n",
    "        keras.layers.Dense(units=1000, activation=\"relu\"),\n",
    "        keras.layers.Dense(units=750, activation=\"relu\"),\n",
    "        keras.layers.Dense(units=500, activation=\"relu\"),\n",
    "        keras.layers.Dense(units=encoded_moves_length, activation=\"softmax\"),\n",
    "    ]\n",
    ")\n",
    "\n",
    "model.compile(\n",
    "    optimizer=\"Adam\",\n",
    "    loss=\"SparseCategoricalCrossentropy\",  # Because y is an integer representation\n",
    "    metrics=[\"accuracy\"],\n",
    ")\n",
    "\n",
    "history = model.fit(x=x_train, y=y_train, epochs=2, validation_split=0.2)"
   ]
  },
  {
   "cell_type": "code",
   "execution_count": null,
   "metadata": {},
   "outputs": [],
   "source": [
    "model.save(\"../saved_models/01_initial_model.h5\")"
   ]
  },
  {
   "cell_type": "markdown",
   "metadata": {},
   "source": [
    "### Training the optimal model\n",
    "\n",
    "The current optimal consists of:\n",
    "- 1 flatten input layer\n",
    "- 4 dense hidden layers, using the ReLu activation function and the number of neurons ranging from 1500 to 500\n",
    "- 1 dense output layer, using the Softmax activation function"
   ]
  }
 ],
 "metadata": {
  "kernelspec": {
   "display_name": "chess_bot",
   "language": "python",
   "name": "python3"
  },
  "language_info": {
   "codemirror_mode": {
    "name": "ipython",
    "version": 3
   },
   "file_extension": ".py",
   "mimetype": "text/x-python",
   "name": "python",
   "nbconvert_exporter": "python",
   "pygments_lexer": "ipython3",
   "version": "3.7.2"
  }
 },
 "nbformat": 4,
 "nbformat_minor": 2
}
