{
 "cells": [
  {
   "cell_type": "code",
   "execution_count": 1,
   "metadata": {},
   "outputs": [],
   "source": [
    "#Import packages\n",
    "import sqlite3\n",
    "import pandas as pd\n",
    "import gym\n",
    "import gym_chess\n",
    "import chess\n",
    "from gym_chess.alphazero import BoardEncoding\n",
    "import numpy as np\n",
    "import matplotlib.pyplot as plt\n"
   ]
  },
  {
   "cell_type": "code",
   "execution_count": 2,
   "metadata": {},
   "outputs": [],
   "source": [
    "#Define functions\n",
    "def encodeBoard(board: chess.Board) -> np.array:\n",
    " \"\"\"Converts a board to numpy array representation.\"\"\"\n",
    "\n",
    " array = np.zeros((8, 8, 14), dtype=int)\n",
    "\n",
    " for square, piece in board.piece_map().items():\n",
    "  rank, file = chess.square_rank(square), chess.square_file(square)\n",
    "  piece_type, color = piece.piece_type, piece.color\n",
    " \n",
    "  # The first six planes encode the pieces of the active player, \n",
    "  # the following six those of the active player's opponent. Since\n",
    "  # this class always stores boards oriented towards the white player,\n",
    "  # White is considered to be the active player here.\n",
    "  offset = 0 if color == chess.WHITE else 6\n",
    "  \n",
    "  # Chess enumerates piece types beginning with one, which you have\n",
    "  # to account for\n",
    "  idx = piece_type - 1\n",
    " \n",
    "  array[rank, file, idx + offset] = 1\n",
    "\n",
    " # Repetition counters\n",
    " array[:, :, 12] = board.is_repetition(2)\n",
    " array[:, :, 13] = board.is_repetition(3)\n",
    "\n",
    " return array\n",
    "\n",
    "def BoardFromFen(fen: str):\n",
    " board = chess.Board(fen)\n",
    " return board\n",
    "\n",
    "def encode_move(move):\n",
    "    env = gym.make('ChessAlphaZero-v0')\n",
    "    env.reset() \n",
    "    try:\n",
    "        encoded = env.encode(move)  \n",
    "    except:\n",
    "        encoded = None\n",
    "    return encoded\n",
    "\n",
    "def find_move(fen1, fen2):\n",
    "    # Create board objects from FEN positions\n",
    "    # fen1 = x['fen']\n",
    "    # fen2 = x['next_fen']\n",
    "    \n",
    "    board1 = chess.Board(fen1)\n",
    "    board2 = chess.Board(fen2)\n",
    "\n",
    "    # Find the move made between the two positions\n",
    "    move = None\n",
    "    for possible_move in board1.legal_moves:\n",
    "        # Make the move on a copy of the first board\n",
    "        temp_board = board1.copy()\n",
    "        temp_board.push(possible_move)\n",
    "        \n",
    "        # Compare the resulting FEN position with the second position\n",
    "        if temp_board==board2:\n",
    "            move = possible_move\n",
    "            break\n",
    "\n",
    "    return move\n"
   ]
  },
  {
   "cell_type": "code",
   "execution_count": 3,
   "metadata": {},
   "outputs": [],
   "source": [
    "database = sqlite3.connect('data/test_data.db')\n",
    "df = pd.read_sql_query(\"SELECT * FROM evaluations LIMIT 100000\", database)\n"
   ]
  },
  {
   "cell_type": "code",
   "execution_count": 4,
   "metadata": {},
   "outputs": [
    {
     "name": "stdout",
     "output_type": "stream",
     "text": [
      "(8, 8, 14)\n"
     ]
    }
   ],
   "source": [
    "df['board'] = df['fen'].apply(BoardFromFen)\n",
    "df['encoded_board'] = df['board'].apply(encodeBoard)\n",
    "print(df['encoded_board'][0].shape)\n",
    "\n",
    "# env = gym.make('ChessAlphaZero-v0')\n",
    "# env.reset()\n",
    "# env.observation_space\n",
    "# board = df['board'][0]\n",
    "\n",
    "# env.encode(board)\n"
   ]
  },
  {
   "cell_type": "code",
   "execution_count": 5,
   "metadata": {},
   "outputs": [],
   "source": [
    "df['next_fen'] = df['fen'].shift(-1)\n",
    "df['move'] = \"\"\n",
    "df['encoded_move'] = \"\"\n",
    "for i in range(len(df)-1):\n",
    "    df.loc[i, 'move'] = find_move(df['fen'][i], df['next_fen'][i])\n",
    "    df.loc[i, 'encoded_move'] = encode_move(df['move'][i])\n",
    "\n"
   ]
  },
  {
   "cell_type": "code",
   "execution_count": 6,
   "metadata": {},
   "outputs": [],
   "source": [
    "df.dropna(subset=['encoded_move'],inplace=True)\n",
    "df.reset_index(inplace=True, drop=True)"
   ]
  },
  {
   "cell_type": "code",
   "execution_count": 7,
   "metadata": {},
   "outputs": [],
   "source": [
    "df.to_pickle('cleaned_data.pkl')\n"
   ]
  },
  {
   "cell_type": "code",
   "execution_count": null,
   "metadata": {},
   "outputs": [],
   "source": []
  }
 ],
 "metadata": {
  "kernelspec": {
   "display_name": "chess_bot",
   "language": "python",
   "name": "python3"
  },
  "language_info": {
   "codemirror_mode": {
    "name": "ipython",
    "version": 3
   },
   "file_extension": ".py",
   "mimetype": "text/x-python",
   "name": "python",
   "nbconvert_exporter": "python",
   "pygments_lexer": "ipython3",
   "version": "3.7.16"
  }
 },
 "nbformat": 4,
 "nbformat_minor": 2
}
